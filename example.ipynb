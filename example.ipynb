{
 "cells": [
  {
   "cell_type": "markdown",
   "metadata": {},
   "source": [
    "# Plot figure"
   ]
  },
  {
   "cell_type": "markdown",
   "metadata": {},
   "source": [
    "## 1. 单组bar图"
   ]
  },
  {
   "cell_type": "code",
   "execution_count": null,
   "metadata": {},
   "outputs": [],
   "source": [
    "import numpy as np\n",
    "import matplotlib.pyplot as plt\n",
    "from plot_figure import *\n",
    "\n",
    "# 原始数据\n",
    "np.random.seed(0)\n",
    "Human = np.random.normal(1000,100,30)\n",
    "Macaque = np.random.normal(1500,100,30)\n",
    "Chimpanzee = np.random.normal(2000,100,30)\n",
    "# 导入数据\n",
    "data = [Human, Macaque, Chimpanzee]\n",
    "labels_name = ['H', 'M', 'C']\n",
    "colors = ['#c44e52','#bcbbc0', '#1a1a1a']  # 自定义颜色（十六进制）\n",
    "# 设置figure\n",
    "fig, axes = plt.subplots(2, 2, figsize=(8,8))  # 2行2列，共4个子图\n",
    "fig.subplots_adjust(wspace=0.3, hspace=0.3)  # 设置子图间间距\n",
    "# 设置axes\n",
    "ax1 = axes[0][0]  # 第1行，第1列子图\n",
    "ax2 = axes[0][1]  # 第1行，第2列子图\n",
    "ax3 = axes[1][0]  # 第2行，第1列子图\n",
    "ax4 = axes[1][1]  # 第2行，第2列子图\n",
    "# 调用函数\n",
    "## 第1张ax\n",
    "plot_one_group_bar_figure(data, ax=ax1, colors=colors, statistic=True, test_method='external', p_list=[0.049, 0.04, 0.049])\n",
    "## 第2张ax\n",
    "plot_one_group_bar_figure(data, ax=ax2, width=0.8, labels_name=labels_name, colors=colors, math_text=False, x_tick_rotation=30, x_label_ha='right', statistic=True)\n",
    "## 第3张ax\n",
    "plot_one_group_bar_figure(data, ax=ax3, labels_name=labels_name, colors=colors, math_text=False, percentage=True, statistic=True, test_method='permutation_median')\n",
    "## 第4张ax\n",
    "plot_one_group_bar_figure(data, ax=ax4, labels_name=labels_name, colors=colors, ax_min_is_0=True, statistic=True, test_method='ttest_rel')\n",
    "# 保存图片\n",
    "fig.savefig(\"./example_figures/single_bar.png\", dpi=250, bbox_inches='tight')  # 保存到指定位置，以及设置图片清晰度（越清晰，图片越大），矢量图保存可以换成.svg格式"
   ]
  },
  {
   "cell_type": "markdown",
   "metadata": {},
   "source": [
    "## 2. 单组小提琴图"
   ]
  },
  {
   "cell_type": "code",
   "execution_count": null,
   "metadata": {},
   "outputs": [],
   "source": [
    "import numpy as np\n",
    "import matplotlib.pyplot as plt\n",
    "from plot_figure import *\n",
    "\n",
    "# 原始数据\n",
    "np.random.seed(1998)\n",
    "Human = np.random.normal(1000,100,100)\n",
    "Random = np.random.normal(1500,100,100)\n",
    "Macaque = np.random.normal(2000,100,100)\n",
    "# 导入数据\n",
    "data=[Human, Random, Macaque]\n",
    "labels_name = ['Human', 'Random', 'Macaque']\n",
    "colors=['#c44e52','#bcbbc0', '#1a1a1a']\n",
    "# 设置figure\n",
    "fig = plt.figure(figsize=(8,8))\n",
    "plt.subplots_adjust(wspace=0.3, hspace=0.3)\n",
    "# 设置axes\n",
    "ax1 = fig.add_subplot(221)\n",
    "ax2 = fig.add_subplot(222)\n",
    "ax3 = fig.add_subplot(223)\n",
    "ax4 = fig.add_subplot(224)\n",
    "# 调用函数\n",
    "## 第1张ax\n",
    "plot_one_group_violin_figure(data, ax=ax1, colors=colors, statistic=True, test_method='external', p_list=[0.049, 0.04, 0.049])\n",
    "## 第2张ax\n",
    "plot_one_group_violin_figure(data, ax=ax2, labels_name=labels_name, colors=colors, math_text=False, one_decimal_place=True, x_tick_rotation=30, x_label_ha='right', statistic=True,  test_method='permutation_mean')\n",
    "## 第3张ax\n",
    "plot_one_group_violin_figure(data, ax=ax3, labels_name=labels_name, colors=colors, math_text=False, percentage=True, statistic=True, test_method='ttest_rel')\n",
    "## 第4张ax\n",
    "plot_one_group_violin_figure(data, ax=ax4, labels_name=labels_name, colors=colors, y_lim_range=[-1000, 3000])\n",
    "# 保存图片\n",
    "fig.savefig(\"./example_figures/single_violin.png\", dpi=250, bbox_inches='tight')  # 保存到指定位置，以及设置图片清晰度（越清晰，图片越大），矢量图保存可以换成.svg格式"
   ]
  },
  {
   "cell_type": "markdown",
   "metadata": {},
   "source": [
    "## 3. 点线相关图"
   ]
  },
  {
   "cell_type": "code",
   "execution_count": null,
   "metadata": {},
   "outputs": [],
   "source": [
    "import numpy as np\n",
    "import matplotlib.pyplot as plt\n",
    "from plot_figure import *\n",
    "\n",
    "# 原始数据\n",
    "np.random.seed(0)\n",
    "rm_rjx1 = np.random.normal(0, 1, 100)\n",
    "rm_rjx2 = 2 * rm_rjx1 + np.random.normal(0, 1, 100)\n",
    "# 设置figure\n",
    "fig = plt.figure(figsize=(3, 3))\n",
    "# 设置axes\n",
    "ax = fig.add_subplot(111)\n",
    "# 调用函数\n",
    "plot_correlation_figure(rm_rjx1, rm_rjx2, stats_method='spearman', summary=True)\n",
    "# 保存图片\n",
    "fig.savefig(r\"./figures/correlation.png\",dpi=250, bbox_inches='tight')"
   ]
  },
  {
   "cell_type": "markdown",
   "metadata": {},
   "source": [
    "## 4. 矩阵图"
   ]
  },
  {
   "cell_type": "code",
   "execution_count": null,
   "metadata": {},
   "outputs": [],
   "source": [
    "import numpy as np\n",
    "import matplotlib.pyplot as plt\n",
    "from plot_figure import *\n",
    "\n",
    "# 数据\n",
    "np.random.seed(1998)\n",
    "data1 = np.random.random((88,88))\n",
    "data2 = np.random.random((88,88))\n",
    "labels = ['area_32','area_25','area_24a/b','area_24c','area_24a/b_prime','area_24c_prime','area_10','area_14','area_11','area_13','area_12m/o','Iam/Iapm','lat_Ia','OLF','G','PrCO','area_8A','area_8B','area_9','area_46d','area_46v/f','area_12r/l','area_45','area_44','M1','PMd','PMv','preSMA','SMA','area_3a/b','areas_1-2','SII','V6','V6A','area_5d','PEa','MIP','fundus_IPS','AIP','LIP','LOP','MST','area_7a/b','area_7op','area_7m','area_31','area_23','area_v23','area_29','area_30','TF/TFO','TH','caudal_ERh','mid_ERh','rostral_ERh','area_35','area_36','TGa','TGd','TGg','TEO','post_TE','ant_TE','TE_in_STSv','ant_STSf','FST','TPO','TAa','STGr','Tpt','parabelt','CL/ML','AL/RTL','CM','RM/RTM','RTp','R/RT','AI','Pi','Ins','Ri','MT','V4d','V4v','V3d/V3A','V3v','V2','V1']\n",
    "# figure的参数额外设置\n",
    "fig = plt.figure(figsize=(20,10))\n",
    "# axes的参数额外设置\n",
    "ax1 = fig.add_subplot(121)\n",
    "ax2 = fig.add_subplot(122)\n",
    "# 调用函数\n",
    "## 第1张ax\n",
    "plot_matrix_figure(data1, ax=ax1)\n",
    "## 第2张ax\n",
    "plot_matrix_figure(data2, ax=ax2, row_labels_name=labels, col_labels_name=labels, cmap='Reds', colorbar=True, colorbar_label_name='BBB', title_name='AAA', vmin=0, vmax=0.1)\n",
    "# 保存图片\n",
    "fig.savefig(\"./figures/matrix.png\", dpi=250, bbox_inches='tight')"
   ]
  },
  {
   "cell_type": "markdown",
   "metadata": {},
   "source": [
    "## 5. 人Glasser图集脑图"
   ]
  },
  {
   "cell_type": "code",
   "execution_count": null,
   "metadata": {},
   "outputs": [],
   "source": [
    "import numpy as np\n",
    "import matplotlib.pyplot as plt\n",
    "from plot_figure import *\n",
    "\n",
    "data = {'lh_V1':10, 'lh_MST':15, 'rh_V1':-10}\n",
    "\n",
    "# 全脑\n",
    "fig = plot_human_brain_figure(data, cmap='Reds', vmin=-15.1234, vmax=15.1234, colorbar_label_name='AAA', colorbar_decimals=3)\n",
    "fig.savefig(r\"./figures/human_brain1.png\", dpi=250, bbox_inches='tight')\n",
    "\n",
    "# 全脑\n",
    "fig = plot_human_brain_figure(data, surf='inflated', cmap='bwr', vmin=-15.1234, vmax=15.1234, colorbar_label_name='AAA', colorbar_location='bottom')\n",
    "fig.savefig(r\"./figures/human_brain2.png\", dpi=250, bbox_inches='tight')\n",
    "\n",
    "# 仅左脑\n",
    "fig = plot_human_hemi_brain_figure(data, hemi='lh', cmap='bwr', vmin=-15.1234, vmax=15.1234, colorbar_nticks=5)\n",
    "fig.savefig(r\"./figures/human_brain3.png\", dpi=250, bbox_inches='tight')\n",
    "\n",
    "# 仅右脑\n",
    "fig = plot_human_hemi_brain_figure(data, hemi='rh', surf='midthickness', cmap='bwr', vmin=-15, vmax=15, colorbar_shrink=0.9)\n",
    "fig.savefig(r\"./figures/human_brain4.png\", dpi=250, bbox_inches='tight')"
   ]
  },
  {
   "cell_type": "markdown",
   "metadata": {},
   "source": [
    "## 6. 猴CHARM5图集脑区"
   ]
  },
  {
   "cell_type": "code",
   "execution_count": null,
   "metadata": {},
   "outputs": [],
   "source": [
    "import numpy as np\n",
    "import matplotlib.pyplot as plt\n",
    "from plot_figure import *\n",
    "\n",
    "# 全脑1\n",
    "data = {'lh_V1':15, 'rh_V1':15}\n",
    "fig = plot_macaque_brain_figure(data, surf='inflated', colorbar_direction='vertical', colorbar_label_name='AAA')\n",
    "fig.savefig(r\"./figures/macaque_brain1.png\", dpi=250, bbox_inches='tight')\n",
    "\n",
    "# 全脑2\n",
    "data = r\"E:\\jupyter_notebook\\jupyter_notebook_code\\git_repositories\\Plot_figure\\macaque_charm5.csv\"\n",
    "fig = plot_macaque_brain_figure(data, surf='inflated', cmap='bwr', colorbar_direction='horizontal', colorbar_label_name='AAA')\n",
    "fig.savefig(r\"./figures/macaque_brain2.png\", dpi=250, bbox_inches='tight')\n",
    "\n",
    "# 仅左脑\n",
    "data = {'lh_V1':15}  # 如果只画左脑，请把右脑数据删除\n",
    "fig = plot_macaque_hemi_brain_figure(data, hemi='lh', cmap='bwr', ax_direction='vertical')\n",
    "fig.savefig(r\"./figures/macaque_brain3.png\", dpi=250, bbox_inches='tight')\n",
    "\n",
    "# 仅右脑\n",
    "data = {'rh_V1':-10, 'rh_MST':10}  # 如果只画右脑，请把左脑数据删除\n",
    "fig = plot_macaque_hemi_brain_figure(data, hemi='rh', surf='white', colorbar_direction='horizontal', colorbar_label_name='AAA', cmap='bwr')\n",
    "fig.savefig(r\"./figures/macaque_brain4.png\", dpi=250, bbox_inches='tight')"
   ]
  },
  {
   "cell_type": "markdown",
   "metadata": {},
   "source": [
    "# 以下内容正在施工中"
   ]
  },
  {
   "cell_type": "markdown",
   "metadata": {},
   "source": [
    "## 1. 多组bar图"
   ]
  },
  {
   "cell_type": "code",
   "execution_count": 13,
   "metadata": {},
   "outputs": [
    {
     "data": {
      "image/png": "[encoded data removed]",
      "text/plain": [
       "<Figure size 500x500 with 1 Axes>"
      ]
     },
     "metadata": {},
     "output_type": "display_data"
    }
   ],
   "source": [
    "# # 施工中\n",
    "\n",
    "# import numpy as np\n",
    "# import matplotlib.pyplot as plt\n",
    "# from plot_figure import *\n",
    "\n",
    "# # 原始数据\n",
    "# np.random.seed(1998)\n",
    "# Human1 = np.random.normal(1000, 10, 100)\n",
    "# Human2 = np.random.normal(990, 10, 100)\n",
    "# Human3 = np.random.normal(980, 10, 100)\n",
    "\n",
    "# Macaque1 = np.random.normal(970, 10, 90)\n",
    "# Macaque2 = np.random.normal(990, 10, 90)\n",
    "# Macaque3 = np.random.normal(950, 10, 90)\n",
    "\n",
    "# Dog1 = np.random.normal(970, 10, 90)\n",
    "# Dog2 = np.random.normal(970, 10, 90)\n",
    "# Dog3 = np.random.normal(970, 10, 90)\n",
    "\n",
    "\n",
    "# xxx1 = np.random.normal(970, 10, 90)\n",
    "# xxx2 = np.random.normal(970, 10, 90)\n",
    "# xxx3 = np.random.normal(970, 10, 90)\n",
    "\n",
    "# Human = np.concatenate((Human1.reshape(-1, 1), Human2.reshape(-1, 1), Human3.reshape(-1, 1)), axis=1)  # 100，3\n",
    "# Macaque = np.concatenate((Macaque1.reshape(-1, 1), Macaque2.reshape(-1, 1), Macaque3.reshape(-1, 1)), axis=1)  # 90，3\n",
    "# Dog = np.concatenate((Dog1.reshape(-1, 1), Dog2.reshape(-1, 1), Dog3.reshape(-1, 1)), axis=1)  # 90，3\n",
    "# xxx = np.concatenate((xxx1.reshape(-1, 1), xxx2.reshape(-1, 1), xxx3.reshape(-1, 1)), axis=1)\n",
    "\n",
    "# # 导入数据\n",
    "# data = [Human, Macaque, Dog, xxx]\n",
    "# legend_name = ['Human', 'Macaque', 'Dog', 'xxx']\n",
    "# labels_name = ['MST', 'MT', 'FST']\n",
    "# colors = ['#c44e52', '#1a1a1a', '#bbbbc0', '#b11bc0']\n",
    "# # 设置figure\n",
    "# fig = plt.figure(figsize=(5,5))\n",
    "# # 设置axes\n",
    "# ax = fig.add_subplot(111)\n",
    "# # 调用函数\n",
    "# plot_multi_group_bar_figure(data, test_method='ttest_ind', legend_name=legend_name, labels_name=labels_name, colors=colors, legend_location='lower left')\n",
    "# # 保存图片\n",
    "# fig.savefig(r\"./example_figures/multi_bars.png\",dpi=250, bbox_inches='tight')"
   ]
  },
  {
   "cell_type": "markdown",
   "metadata": {},
   "source": [
    "## 2. 多组小提琴图"
   ]
  },
  {
   "cell_type": "code",
   "execution_count": null,
   "metadata": {},
   "outputs": [],
   "source": [
    "# 施工中\n",
    "\n",
    "# import numpy as np\n",
    "# import matplotlib.pyplot as plt\n",
    "# from plot_figure import *\n",
    "\n",
    "# # 原始数据\n",
    "# np.random.seed(1998)\n",
    "# Human1 = np.random.normal(1000, 10, 100)\n",
    "# Human2 = np.random.normal(990, 10, 101)\n",
    "# Human3 = np.random.normal(980, 10, 102)\n",
    "# Macaque1 = np.random.normal(970, 10, 91)\n",
    "# Macaque2 = np.random.normal(990, 10, 92)\n",
    "# Macaque3 = np.random.normal(950, 10, 93)\n",
    "# # 导入数据1\n",
    "# data1 = [[Human1, Human2, Human3],[Macaque1, Macaque2, Macaque3]]\n",
    "# legend_name1 = ['Human', 'Macaque']\n",
    "# labels_name1 = ['MST', 'MT', 'FST']\n",
    "# colors1 = ['#c44e52', '#1a1a1a']\n",
    "# # 导入数据2\n",
    "# data2 = [[Human1, Macaque1], [Human2, Macaque2], [Human3, Macaque3]]\n",
    "# legend_name2 = ['MST', 'MT', 'FST']\n",
    "# labels_name2 = ['Human', 'Macaque']\n",
    "# colors2 = ['r', 'g', 'b']\n",
    "# # 设置figure\n",
    "# fig = plt.figure(figsize=(8,4))\n",
    "# # 设置axes\n",
    "# ax1 = fig.add_subplot(121)\n",
    "# ax2 = fig.add_subplot(122)\n",
    "# # 调用函数\n",
    "# plot_multi_group_violin_figure(data1, ax=ax1, test_method='ttest_ind', colors=colors1, labels_name=labels_name1, legend_name=legend_name1, legend_location='lower left')\n",
    "# plot_multi_group_violin_figure(data2, ax=ax2, test_method='ttest_ind', colors=colors2, labels_name=labels_name2, legend_name=legend_name2, legend_location='lower left')\n",
    "# # 保存图片\n",
    "# fig.savefig(r\"d:/Desktop/rm_rjx.png\",dpi=250, bbox_inches='tight')"
   ]
  }
 ],
 "metadata": {
  "kernelspec": {
   "display_name": "RJX",
   "language": "python",
   "name": "python3"
  },
  "language_info": {
   "codemirror_mode": {
    "name": "ipython",
    "version": 3
   },
   "file_extension": ".py",
   "mimetype": "text/x-python",
   "name": "python",
   "nbconvert_exporter": "python",
   "pygments_lexer": "ipython3",
   "version": "3.11.9"
  }
 },
 "nbformat": 4,
 "nbformat_minor": 2
}
