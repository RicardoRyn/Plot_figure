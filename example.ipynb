{
 "cells": [
  {
   "cell_type": "markdown",
   "metadata": {},
   "source": [
    "# Plot figure"
   ]
  },
  {
   "cell_type": "markdown",
   "metadata": {},
   "source": [
    "## 1. 单组bar图"
   ]
  },
  {
   "cell_type": "code",
   "execution_count": null,
   "metadata": {},
   "outputs": [],
   "source": [
    "import numpy as np\n",
    "import matplotlib.pyplot as plt\n",
    "from Plot_figure import *\n",
    "\n",
    "# 原始数据\n",
    "np.random.seed(0)\n",
    "Human = np.random.normal(1000,100,30)\n",
    "Macaque = np.random.normal(1500,100,30)\n",
    "Chimpanzee = np.random.normal(2000,100,30)\n",
    "\n",
    "# 导入数据\n",
    "data = [Human, Macaque, Chimpanzee]\n",
    "labels_name = ['HS', 'M', 'C']\n",
    "colors = ['#c44e52','#bcbbc0', '#1a1a1a']  # 自定义颜色（十六进制）\n",
    "p_list = [0.049, 0.04, 0.049]\n",
    "\n",
    "\n",
    "# 设置figure\n",
    "fig, axes = plt.subplots(2, 2, figsize=(8,8))  # 2行2列，共4个子图\n",
    "fig.subplots_adjust(wspace=0.5, hspace=0.5)  # 设置子图间间距\n",
    "# 设置axes\n",
    "ax1 = axes[0][0]  # 第1行，第1列子图\n",
    "ax2 = axes[0][1]  # 第1行，第2列子图\n",
    "ax3 = axes[1][0]  # 第2行，第1列子图\n",
    "ax4 = axes[1][1]  # 第2行，第2列子图\n",
    "# 调用函数\n",
    "## 第1张ax\n",
    "plot_one_group_bar_figure(data, ax=ax1, colors=colors, statistic=True, test_method='external', p_list=p_list)\n",
    "## 第2张ax\n",
    "plot_one_group_bar_figure(data, ax=ax2, width=0.8, labels_name=labels_name, colors=colors, math_text=False, x_tick_rotation=30, x_label_ha='right', statistic=True)\n",
    "## 第3张ax\n",
    "plot_one_group_bar_figure(data, ax=ax3, labels_name=labels_name, colors=colors, math_text=False, percentage=True, statistic=True, test_method='permutation_median')\n",
    "## 第4张ax\n",
    "plot_one_group_bar_figure(data, ax=ax4, labels_name=labels_name, colors=colors, ax_min_is_0=True, statistic=True, test_method='ttest_rel')\n",
    "# 保存图片\n",
    "fig.savefig(\"./example_figures/single_bar.png\", dpi=250, bbox_inches='tight')  # 保存到指定位置，以及设置图片清晰度（越清晰，图片越大），矢量图保存可以换成.svg格式"
   ]
  },
  {
   "cell_type": "markdown",
   "metadata": {},
   "source": [
    "## 2. 单组小提琴图"
   ]
  },
  {
   "cell_type": "code",
   "execution_count": null,
   "metadata": {},
   "outputs": [],
   "source": [
    "import numpy as np\n",
    "import matplotlib.pyplot as plt\n",
    "from Plot_figure import *\n",
    "\n",
    "# 原始数据\n",
    "np.random.seed(1998)\n",
    "Human = np.random.normal(1000,100,100)\n",
    "Random = np.random.normal(1500,100,100)\n",
    "Macaque = np.random.normal(2000,100,100)\n",
    "# 导入数据\n",
    "data=[Human, Random, Macaque]\n",
    "labels_name = ['Human', 'Random', 'Macaque']\n",
    "colors=['#c44e52','#bcbbc0', '#1a1a1a']\n",
    "# 设置figure\n",
    "fig = plt.figure(figsize=(8,8))\n",
    "plt.subplots_adjust(wspace=0.3, hspace=0.3)\n",
    "# 设置axes\n",
    "ax1 = fig.add_subplot(221)\n",
    "ax2 = fig.add_subplot(222)\n",
    "ax3 = fig.add_subplot(223)\n",
    "ax4 = fig.add_subplot(224)\n",
    "# 调用函数\n",
    "## 第1张ax\n",
    "plot_one_group_violin_figure(data, ax=ax1, colors=colors, statistic=True, test_method='external', p_list=[0.049, 0.04, 0.049])\n",
    "## 第2张ax\n",
    "plot_one_group_violin_figure(data, ax=ax2, labels_name=labels_name, colors=colors, math_text=False, one_decimal_place=True, x_tick_rotation=30, x_label_ha='right', statistic=True,  test_method='permutation_mean')\n",
    "## 第3张ax\n",
    "plot_one_group_violin_figure(data, ax=ax3, labels_name=labels_name, colors=colors, math_text=False, percentage=True, statistic=True, test_method='ttest_rel')\n",
    "## 第4张ax\n",
    "plot_one_group_violin_figure(data, ax=ax4, labels_name=labels_name, colors=colors, y_lim_range=[-1000, 3000])\n",
    "# 保存图片\n",
    "fig.savefig(\"./example_figures/single_violin.png\", dpi=250, bbox_inches='tight')  # 保存到指定位置，以及设置图片清晰度（越清晰，图片越大），矢量图保存可以换成.svg格式"
   ]
  },
  {
   "cell_type": "markdown",
   "metadata": {},
   "source": [
    "## 3. 点线相关图"
   ]
  },
  {
   "cell_type": "code",
   "execution_count": null,
   "metadata": {},
   "outputs": [],
   "source": [
    "import numpy as np\n",
    "import matplotlib.pyplot as plt\n",
    "from Plot_figure import *\n",
    "\n",
    "# 原始数据\n",
    "np.random.seed(0)\n",
    "rm_rjx1 = np.random.normal(0, 1, 100)\n",
    "rm_rjx2 = 2 * rm_rjx1 + np.random.normal(0, 1, 100)\n",
    "# 设置figure\n",
    "fig = plt.figure(figsize=(3, 3))\n",
    "# 设置axes\n",
    "ax = fig.add_subplot(111)\n",
    "# 调用函数\n",
    "plot_correlation_figure(rm_rjx1, rm_rjx2, stats_method='spearman', summary=True)\n",
    "# 保存图片\n",
    "fig.savefig(\"./example_figures/correlation.png\",dpi=250, bbox_inches='tight')"
   ]
  },
  {
   "cell_type": "markdown",
   "metadata": {},
   "source": [
    "## 4. 矩阵图"
   ]
  },
  {
   "cell_type": "code",
   "execution_count": null,
   "metadata": {},
   "outputs": [],
   "source": [
    "import numpy as np\n",
    "import matplotlib.pyplot as plt\n",
    "from Plot_figure import *\n",
    "\n",
    "# 数据\n",
    "np.random.seed(1998)\n",
    "data1 = np.random.random((88,88))\n",
    "data2 = np.random.random((88,88))\n",
    "labels = ['area_32','area_25','area_24a/b','area_24c','area_24a/b_prime','area_24c_prime','area_10','area_14','area_11','area_13','area_12m/o','Iam/Iapm','lat_Ia','OLF','G','PrCO','area_8A','area_8B','area_9','area_46d','area_46v/f','area_12r/l','area_45','area_44','M1','PMd','PMv','preSMA','SMA','area_3a/b','areas_1-2','SII','V6','V6A','area_5d','PEa','MIP','fundus_IPS','AIP','LIP','LOP','MST','area_7a/b','area_7op','area_7m','area_31','area_23','area_v23','area_29','area_30','TF/TFO','TH','caudal_ERh','mid_ERh','rostral_ERh','area_35','area_36','TGa','TGd','TGg','TEO','post_TE','ant_TE','TE_in_STSv','ant_STSf','FST','TPO','TAa','STGr','Tpt','parabelt','CL/ML','AL/RTL','CM','RM/RTM','RTp','R/RT','AI','Pi','Ins','Ri','MT','V4d','V4v','V3d/V3A','V3v','V2','V1']\n",
    "# figure的参数额外设置\n",
    "fig = plt.figure(figsize=(20,10))\n",
    "# axes的参数额外设置\n",
    "ax1 = fig.add_subplot(121)\n",
    "ax2 = fig.add_subplot(122)\n",
    "# 调用函数\n",
    "## 第1张ax\n",
    "plot_matrix_figure(data1, ax=ax1)\n",
    "## 第2张ax\n",
    "plot_matrix_figure(data2, ax=ax2, row_labels_name=labels, col_labels_name=labels, cmap='Reds', colorbar=True, colorbar_label_name='BBB', title_name='AAA', row_labels_fontsize=5, col_labels_fontsize=5, vmin=0, vmax=0.1)\n",
    "# 保存图片\n",
    "fig.savefig(\"./example_figures/matrix.png\", dpi=250, bbox_inches='tight')"
   ]
  },
  {
   "cell_type": "markdown",
   "metadata": {},
   "source": [
    "## 5. 人Glasser图集脑图"
   ]
  },
  {
   "cell_type": "code",
   "execution_count": null,
   "metadata": {},
   "outputs": [],
   "source": [
    "import numpy as np\n",
    "import matplotlib.pyplot as plt\n",
    "from Plot_figure import *\n",
    "\n",
    "data = {'lh_V1': 1, 'lh_MST':1.234, 'rh_V1': -0.123}\n",
    "\n",
    "# 全脑\n",
    "fig = plot_human_brain_figure(data, cmap='Reds', vmin=-15.1234, vmax=15.1234, colorbar_label_name='AAA', colorbar_decimals=3)\n",
    "fig.savefig(\"./example_figures/human_brain1.png\", dpi=250, bbox_inches='tight')\n",
    "\n",
    "# 全脑\n",
    "fig = plot_human_brain_figure(data, surf='inflated', cmap='bwr', vmin=-15.1234, vmax=15.1234, colorbar_label_name='AAA', colorbar_location='bottom')\n",
    "fig.savefig(\"./example_figures/human_brain2.png\", dpi=250, bbox_inches='tight')\n",
    "\n",
    "# 仅左脑\n",
    "fig = plot_human_hemi_brain_figure(data, hemi='lh', cmap='bwr', vmin=-15.1234, vmax=15.1234, colorbar_nticks=5)\n",
    "fig.savefig(\"./example_figures/human_brain3.png\", dpi=250, bbox_inches='tight')\n",
    "\n",
    "data = {'rh_A8m': 1, 'rh_aSTS':1.234, 'rh_mOccG': -0.123}\n",
    "# 仅右脑\n",
    "fig = plot_human_hemi_brain_figure(data, hemi='rh', surf='midthickness', atlas='bna', cmap='bwr', vmin=-15, vmax=15, colorbar_shrink=0.9)\n",
    "fig.savefig(\"./example_figures/human_brain4.png\", dpi=250, bbox_inches='tight')"
   ]
  },
  {
   "cell_type": "markdown",
   "metadata": {},
   "source": [
    "## 6. 猴CHARM5图集脑区"
   ]
  },
  {
   "cell_type": "code",
   "execution_count": null,
   "metadata": {},
   "outputs": [],
   "source": [
    "import numpy as np\n",
    "import matplotlib.pyplot as plt\n",
    "from Plot_figure import *\n",
    "\n",
    "\n",
    "\n",
    "# 全脑1\n",
    "data = {'lh_V1':15, 'rh_V1':15}\n",
    "fig = plot_macaque_brain_figure(data, cmap='bwr', vmin=-15.1234, vmax=15.1234, colorbar_label_name='AAA', colorbar_decimals=3)\n",
    "fig.savefig(\"./example_figures/macaque_brain1.png\", dpi=250, bbox_inches='tight')\n",
    "\n",
    "# # 全脑2\n",
    "data = {'lh_V1':10, 'lh_MST':15, 'rh_V1':-10}\n",
    "fig = plot_macaque_brain_figure(data, surf='inflated', atlas='charm6', cmap='bwr', vmin=-15.1234, vmax=15.1234, colorbar_label_name='AAA', colorbar_location='bottom')\n",
    "fig.savefig(\"./example_figures/macaque_brain2.png\", dpi=250, bbox_inches='tight')\n",
    "\n",
    "# 仅左脑\n",
    "data = {'lh_V1':15}  # 如果只画左脑，请把右脑数据删除\n",
    "fig = plot_macaque_hemi_brain_figure(data, surf='pial', hemi='lh', cmap='bwr', vmin=-15.1234, vmax=15.1234, colorbar_nticks=5)\n",
    "fig.savefig(\"./example_figures/macaque_brain3.png\", dpi=250, bbox_inches='tight')\n",
    "\n",
    "# 仅右脑\n",
    "data = {'rh_area_44':-10, 'rh_MST':10}  # 如果只画右脑，请把左脑数据删除\n",
    "fig = plot_macaque_hemi_brain_figure(data, hemi='rh', surf='midthickness', atlas='charm6', cmap='bwr', vmin=-15, vmax=15, colorbar_shrink=0.9)\n",
    "fig.savefig(\"./example_figures/macaque_brain4.png\", dpi=250, bbox_inches='tight')\n"
   ]
  },
  {
   "cell_type": "markdown",
   "metadata": {},
   "source": [
    "## 7. 对称圈状图"
   ]
  },
  {
   "cell_type": "code",
   "execution_count": null,
   "metadata": {},
   "outputs": [],
   "source": [
    "import numpy as np\n",
    "import matplotlib.pyplot as plt\n",
    "from Plot_figure import *\n",
    "\n",
    "# 生成一个随机的10x10矩阵\n",
    "np.random.seed(1998)\n",
    "matrix_size = 10\n",
    "connectome = np.random.rand(matrix_size, matrix_size)\n",
    "print(connectome.shape)\n",
    "# 使矩阵对称\n",
    "connectome = (connectome + connectome.T) / 2\n",
    "# 将对角线置为0\n",
    "np.fill_diagonal(connectome, 0)\n",
    "# print(np.max(connectome))\n",
    "# print(np.min(connectome))\n",
    "\n",
    "node_colors = ['#ffaec9', '#ffc90e', '#b5e61d', '#7092be', '#efe4b0']\n",
    "\n",
    "fig = plot_symmetric_circle_figure(connectome, node_colors=node_colors, colorbar=True, vmin=0, vmax=1)\n",
    "fig.savefig(\"./example_figures/circle1.png\", dpi=250, bbox_inches='tight')"
   ]
  },
  {
   "cell_type": "markdown",
   "metadata": {},
   "source": [
    "## 8. 不对称圈状图"
   ]
  },
  {
   "cell_type": "code",
   "execution_count": null,
   "metadata": {},
   "outputs": [],
   "source": [
    "import numpy as np\n",
    "import matplotlib.pyplot as plt\n",
    "from Plot_figure import *\n",
    "\n",
    "# 生成一个随机的100x100矩阵\n",
    "matrix_size = 10\n",
    "connectome = np.random.rand(matrix_size, matrix_size)\n",
    "# 使矩阵对称\n",
    "connectome = (connectome + connectome.T) / 2\n",
    "# 将对角线置为0\n",
    "np.fill_diagonal(connectome, 0)\n",
    "\n",
    "fig = plot_asymmetric_circle_figure(connectome, colorbar=True)\n",
    "fig.savefig(\"./example_figures/circle2.png\", dpi=250, bbox_inches='tight')"
   ]
  }
 ],
 "metadata": {
  "kernelspec": {
   "display_name": "RJX",
   "language": "python",
   "name": "python3"
  },
  "language_info": {
   "codemirror_mode": {
    "name": "ipython",
    "version": 3
   },
   "file_extension": ".py",
   "mimetype": "text/x-python",
   "name": "python",
   "nbconvert_exporter": "python",
   "pygments_lexer": "ipython3",
   "version": "3.11.9"
  }
 },
 "nbformat": 4,
 "nbformat_minor": 2
}
